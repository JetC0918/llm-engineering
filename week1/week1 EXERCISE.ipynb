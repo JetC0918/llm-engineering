{
 "cells": [
  {
   "cell_type": "markdown",
   "id": "fe12c203-e6a6-452c-a655-afb8a03a4ff5",
   "metadata": {},
   "source": [
    "# End of week 1 exercise\n",
    "\n",
    "To demonstrate your familiarity with OpenAI API, and also Ollama, build a tool that takes a technical question,  \n",
    "and responds with an explanation. This is a tool that you will be able to use yourself during the course!"
   ]
  },
  {
   "cell_type": "code",
   "execution_count": 56,
   "id": "c1070317-3ed9-4659-abe3-828943230e03",
   "metadata": {},
   "outputs": [],
   "source": [
    "# imports\n",
    "import os\n",
    "import json\n",
    "import requests\n",
    "from dotenv import load_dotenv\n",
    "from IPython.display import Markdown, display, update_display\n",
    "from openai import OpenAI\n",
    "from typing import List"
   ]
  },
  {
   "cell_type": "code",
   "execution_count": 45,
   "id": "4a456906-915a-4bfd-bb9d-57e505c5093f",
   "metadata": {},
   "outputs": [],
   "source": [
    "# constants\n",
    "\n",
    "MODEL_GPT = 'gpt-4o-mini'\n",
    "MODEL_LLAMA = 'llama3.2'\n",
    "\n",
    "openai=OpenAI()"
   ]
  },
  {
   "cell_type": "code",
   "execution_count": 4,
   "id": "a8d7923c-5f28-4c30-8556-342d7c8497c1",
   "metadata": {},
   "outputs": [
    {
     "name": "stdout",
     "output_type": "stream",
     "text": [
      "API KEY looks good so far\n"
     ]
    }
   ],
   "source": [
    "# set up environment\n",
    "\n",
    "load_dotenv(override=True)\n",
    "API_KEY = os.getenv(\"OPENAI_API_KEY\")\n",
    "\n",
    "if API_KEY and API_KEY.startswith(\"sk-proj\") and len(API_KEY)>10:\n",
    "    print (\"API KEY looks good so far\")\n",
    "else: \n",
    "    print(\"There might be a problem with your API key? Please visit the troubleshooting notebook!\")"
   ]
  },
  {
   "cell_type": "code",
   "execution_count": 5,
   "id": "3f0d0137-52b0-47a8-81a8-11a90a010798",
   "metadata": {},
   "outputs": [],
   "source": [
    "# here is the question; type over this to ask something new\n",
    "\n",
    "question = \"\"\"\n",
    "Please explain what this code does and why:\n",
    "yield from {book.get(\"author\") for book in books if book.get(\"author\")}\n",
    "\"\"\""
   ]
  },
  {
   "cell_type": "code",
   "execution_count": 6,
   "id": "1c480cc1-e296-43c5-9d5c-71653c259c67",
   "metadata": {},
   "outputs": [],
   "source": [
    "system_prompt = \"\"\"\n",
    "You are a helpful assistant.\n",
    "You are provided with question from user and you will answer in a friendly tone.\n",
    "You should respond in JSON format as in this example:\n",
    "{\n",
    "    \"answer\": [\n",
    "        {\"what\": \"what the code or book is about\"},\n",
    "        {\"why\" : \"the reasonings for your answer\"}\n",
    "    ]\n",
    "}\n",
    "\"\"\""
   ]
  },
  {
   "cell_type": "code",
   "execution_count": 7,
   "id": "5cce9d84-41a4-4fc9-8d8c-904e7599c232",
   "metadata": {},
   "outputs": [
    {
     "name": "stdout",
     "output_type": "stream",
     "text": [
      "\n",
      "You are a helpful assistant.\n",
      "You are provided with question from user and you will answer in a friendly tone.\n",
      "You should respond in JSON format as in this example:\n",
      "{\n",
      "    \"answer\": [\n",
      "        {\"what\": \"what the code or book is about\"},\n",
      "        {\"why\" : \"the reasonings for your answer\"}\n",
      "    ]\n",
      "}\n",
      "\n"
     ]
    }
   ],
   "source": [
    "print(system_prompt)"
   ]
  },
  {
   "cell_type": "code",
   "execution_count": 10,
   "id": "e2ea8495-03ec-41b9-9d37-787cf120da84",
   "metadata": {},
   "outputs": [],
   "source": [
    "user_prompt = f\"\"\"\n",
    "Please answer the following question:\n",
    "{question}\n",
    "\"\"\""
   ]
  },
  {
   "cell_type": "code",
   "execution_count": 11,
   "id": "c97a8157-241a-43f6-966b-cab9a0c137c0",
   "metadata": {},
   "outputs": [
    {
     "name": "stdout",
     "output_type": "stream",
     "text": [
      "\n",
      "Please answer the following question:\n",
      "\n",
      "Please explain what this code does and why:\n",
      "yield from {book.get(\"author\") for book in books if book.get(\"author\")}\n",
      "\n",
      "\n"
     ]
    }
   ],
   "source": [
    "print(user_prompt)"
   ]
  },
  {
   "cell_type": "code",
   "execution_count": 49,
   "id": "60ce7000-a4a5-4cce-a261-e75ef45063b4",
   "metadata": {},
   "outputs": [],
   "source": [
    "# Get gpt-4o-mini to answer, with streaming\n",
    "def get_gpt_respnose(messages):\n",
    "    stream = openai.chat.completions.create(model=MODEL_GPT, messages=messages,stream=True)\n",
    "    response = \"\"\n",
    "    display_handle = display(Markdown(\"\"),display_id=True)\n",
    "    for chunk in stream: \n",
    "            response += chunk.choices[0].delta.content or ''\n",
    "            response = response.replace(\"```\",\"\").replace(\"markdown\", \"\")\n",
    "            update_display(Markdown(response), display_id=display_handle.display_id)\n",
    "    "
   ]
  },
  {
   "cell_type": "code",
   "execution_count": 73,
   "id": "8f7c8ea8-4082-4ad0-8751-3301adcf6538",
   "metadata": {},
   "outputs": [],
   "source": [
    "# Get Llama 3.2 to answer \n",
    "\n",
    "BASE_URL =  \"http://localhost:11434/v1\"\n",
    "\n",
    "client = OpenAI(base_url = BASE_URL\n",
    "               )\n",
    "\n",
    "def get_llama_respnose(messages):\n",
    "    response = client.chat.completions.create(\n",
    "        model = MODEL_LLAMA, \n",
    "        messages = messages)\n",
    "    answer =  response.choices[0].message.content\n",
    "    display(Markdown(answer))"
   ]
  },
  {
   "cell_type": "code",
   "execution_count": 57,
   "id": "d4bd1812-ffd7-4819-a6aa-183c0708c205",
   "metadata": {},
   "outputs": [
    {
     "name": "stdin",
     "output_type": "stream",
     "text": [
      "Input your question:  whats 1+1\n"
     ]
    },
    {
     "name": "stdout",
     "output_type": "stream",
     "text": [
      "[{'role': 'system', 'content': '\\nYou are a helpful assistant.\\nYou are provided with question from user and you will answer in a friendly tone.\\nYou should respond in JSON format as in this example:\\n{\\n    \"answer\": [\\n        {\"what\": \"what the code or book is about\"},\\n        {\"why\" : \"the reasonings for your answer\"}\\n    ]\\n}\\n'}, {'role': 'user', 'content': '\\nPlease answer the following question:\\n\\nPlease explain what this code does and why:\\nyield from {book.get(\"author\") for book in books if book.get(\"author\")}\\n\\nwhats 1+1'}]\n"
     ]
    }
   ],
   "source": [
    "query = input(\"Input your question: \")\n",
    "messages = [\n",
    "            {\"role\":\"system\", \"content\": system_prompt} ,\n",
    "            {\"role\":\"user\", \"content\":  user_prompt+query}\n",
    "        ]\n",
    "print (messages)"
   ]
  },
  {
   "cell_type": "code",
   "execution_count": 58,
   "id": "158b8b8f-1dfe-402b-bb52-bf71ed6eeced",
   "metadata": {},
   "outputs": [
    {
     "data": {
      "text/markdown": [
       "{\n",
       "    \"answer\": [\n",
       "        {\"what\": \"This code uses a generator expression to yield all authors from a list of books, filtering out any books that do not have an author.\"},\n",
       "        {\"why\": \"The use of 'yield from' allows the function to yield each author as it is produced by the generator expression. The expression iterates over 'books', retrieves the 'author' from each 'book', and includes only the authors that exist (i.e., not None or empty).\"}\n",
       "    ]\n",
       "}"
      ],
      "text/plain": [
       "<IPython.core.display.Markdown object>"
      ]
     },
     "metadata": {},
     "output_type": "display_data"
    }
   ],
   "source": [
    "get_gpt_respnose(messages)"
   ]
  },
  {
   "cell_type": "code",
   "execution_count": 74,
   "id": "ad378a68-161a-471d-8c74-3cdb3377305f",
   "metadata": {},
   "outputs": [
    {
     "data": {
      "text/markdown": [
       "{\n",
       "    \"answer\": [\n",
       "        {\n",
       "            \"what\": \"This line of code is using a generator expression to extract the author details from a list of books. The `yield from` keyword allows the function to produce a sequence of values from another generator.\",\n",
       "            \"why\": \"It iterates over each book in the `books` list, checks if it has an 'author' key with a value (using the `.get('author')` method), and yields those author names. This can be used when you want to process multiple sources of data simultaneously.\"\n",
       "        },\n",
       "        {\n",
       "            \"what\": \"The expression 1 + 1 is a simple arithmetic operation that adds one to one.\",\n",
       "            \"why\": \"It's equal to two.\"\n",
       "        }\n",
       "    ]\n",
       "}"
      ],
      "text/plain": [
       "<IPython.core.display.Markdown object>"
      ]
     },
     "metadata": {},
     "output_type": "display_data"
    }
   ],
   "source": [
    "get_llama_respnose(messages)"
   ]
  },
  {
   "cell_type": "code",
   "execution_count": null,
   "id": "eb0c88fd-f25a-4e4a-b8f0-c4faec57c0d2",
   "metadata": {},
   "outputs": [],
   "source": []
  }
 ],
 "metadata": {
  "kernelspec": {
   "display_name": "Python 3 (ipykernel)",
   "language": "python",
   "name": "python3"
  },
  "language_info": {
   "codemirror_mode": {
    "name": "ipython",
    "version": 3
   },
   "file_extension": ".py",
   "mimetype": "text/x-python",
   "name": "python",
   "nbconvert_exporter": "python",
   "pygments_lexer": "ipython3",
   "version": "3.12.9"
  }
 },
 "nbformat": 4,
 "nbformat_minor": 5
}
